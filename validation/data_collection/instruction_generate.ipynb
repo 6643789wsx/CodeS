{
 "cells": [
  {
   "cell_type": "code",
   "execution_count": 1,
   "metadata": {},
   "outputs": [],
   "source": [
    "WORK_DIR = \"/Users/tannpopo/Projects/codeS/codes/validation\"\n",
    "SCRIPTS_DIR = \"/Users/tannpopo/Projects/codeS/codes\"\n",
    "repo_dir = WORK_DIR + \"/repos\"\n",
    "cleaned_repo_dir = WORK_DIR + \"/cleaned_repos\"\n",
    "output_path = WORK_DIR + \"/outputs\""
   ]
  },
  {
   "cell_type": "code",
   "execution_count": 65,
   "metadata": {},
   "outputs": [],
   "source": [
    "metadata_file = \"repo_metas.csv\"\n",
    "\n",
    "import csv\n",
    "import os\n",
    "import sys\n",
    "import subprocess\n",
    "\n",
    "with open(os.path.join(WORK_DIR, metadata_file), newline='') as csvfile:\n",
    "    reader = csv.DictReader(csvfile)\n",
    "    for row in reader:\n",
    "        name = row['name']\n",
    "        repo_path = os.path.join(repo_dir, name)\n",
    "        url = row['url']\n",
    "        if not os.path.exists(repo_path):\n",
    "            os.system(\"git clone https://github.com/\" + url + \" \" + os.path.join(repo_dir, name))"
   ]
  },
  {
   "cell_type": "code",
   "execution_count": 66,
   "metadata": {},
   "outputs": [
    {
     "data": {
      "text/plain": [
       "0"
      ]
     },
     "execution_count": 66,
     "metadata": {},
     "output_type": "execute_result"
    }
   ],
   "source": [
    "import os\n",
    "os.system(f\"rm -rf {WORK_DIR}/repos/**/.git\")"
   ]
  },
  {
   "cell_type": "code",
   "execution_count": 16,
   "metadata": {},
   "outputs": [
    {
     "name": "stdout",
     "output_type": "stream",
     "text": [
      "fastui-chat,every-breath-you-take,smol-podcaster,epubhv,pitch-visualizer,django-tui,easier-docker,sim-web-visualizer,EasyLiterature,pyobd,flameshow,mactop,CVE-2023-44487,pygraft,libgen_to_txt,web.Monitor,kanban-python,EVM_inscription,van-gonography\n"
     ]
    }
   ],
   "source": [
    "import os\n",
    "import sys\n",
    "import json\n",
    "\n",
    "repo_names = \"\"\n",
    "for dir in os.listdir(repo_dir):\n",
    "    if os.path.isdir(os.path.join(repo_dir, dir)):\n",
    "        repo_names += (\",\" if repo_names else \"\")+ dir\n",
    "\n",
    "print(repo_names)"
   ]
  },
  {
   "cell_type": "code",
   "execution_count": 68,
   "metadata": {},
   "outputs": [],
   "source": [
    "import os\n",
    "import sys\n",
    "\n",
    "for dir in os.listdir(cleaned_repo_dir):\n",
    "    if not os.path.isdir(os.path.join(cleaned_repo_dir, dir)):\n",
    "        continue\n",
    "    for file in os.listdir(os.path.join(cleaned_repo_dir, dir)):\n",
    "        if not file == \"README.md\":\n",
    "            if os.path.isdir(os.path.join(cleaned_repo_dir, dir, file)):\n",
    "                os.system(f\"rm -rf {os.path.join(cleaned_repo_dir, dir, file)}\")\n",
    "            else:\n",
    "                os.system(f\"rm {os.path.join(cleaned_repo_dir, dir, file)}\")"
   ]
  },
  {
   "cell_type": "code",
   "execution_count": 69,
   "metadata": {},
   "outputs": [
    {
     "name": "stdout",
     "output_type": "stream",
     "text": [
      "2024-01-19 11:40:05,433 - root - INFO - \n",
      "2024-01-19 11:40:05,434 - root - INFO - total 17 files in /Users/tannpopo/Projects/codeS/codes/validation/repos/fastui-chat, cleaning...\n",
      "2024-01-19 11:40:05,540 - root - INFO - finished cleaning /Users/tannpopo/Projects/codeS/codes/validation/repos/fastui-chat.\n",
      "2024-01-19 11:40:05,540 - root - INFO - clean done!\n",
      "2024-01-19 11:40:05,540 - root - INFO - delete md done!\n",
      "2024-01-19 11:40:05,540 - root - INFO - remove empty folders done!\n",
      "2024-01-19 11:40:05,540 - root - INFO - \n",
      "2024-01-19 11:40:05,540 - root - INFO - total 14 files in /Users/tannpopo/Projects/codeS/codes/validation/repos/every-breath-you-take, cleaning...\n",
      "2024-01-19 11:40:05,972 - root - INFO - finished cleaning /Users/tannpopo/Projects/codeS/codes/validation/repos/every-breath-you-take.\n",
      "2024-01-19 11:40:05,972 - root - INFO - clean done!\n",
      "2024-01-19 11:40:05,972 - root - INFO - delete md done!\n",
      "2024-01-19 11:40:05,972 - root - INFO - Removing empty folder: /Users/tannpopo/Projects/codeS/codes/validation/cleaned_repos/every-breath-you-take/img\n",
      "2024-01-19 11:40:05,972 - root - INFO - remove empty folders done!\n",
      "2024-01-19 11:40:05,973 - root - INFO - \n",
      "2024-01-19 11:40:05,973 - root - INFO - total 6 files in /Users/tannpopo/Projects/codeS/codes/validation/repos/smol-podcaster, cleaning...\n",
      "2024-01-19 11:40:06,032 - root - INFO - finished cleaning /Users/tannpopo/Projects/codeS/codes/validation/repos/smol-podcaster.\n",
      "2024-01-19 11:40:06,033 - root - INFO - clean done!\n",
      "2024-01-19 11:40:06,033 - root - INFO - delete md done!\n",
      "2024-01-19 11:40:06,033 - root - INFO - Removing empty folder: /Users/tannpopo/Projects/codeS/codes/validation/cleaned_repos/smol-podcaster/podcasts-clean-transcripts\n",
      "2024-01-19 11:40:06,033 - root - INFO - remove empty folders done!\n",
      "2024-01-19 11:40:06,033 - root - INFO - \n",
      "2024-01-19 11:40:06,033 - root - INFO - total 18 files in /Users/tannpopo/Projects/codeS/codes/validation/repos/epubhv, cleaning...\n",
      "2024-01-19 11:40:06,387 - root - INFO - finished cleaning /Users/tannpopo/Projects/codeS/codes/validation/repos/epubhv.\n",
      "2024-01-19 11:40:06,387 - root - INFO - clean done!\n",
      "2024-01-19 11:40:06,387 - root - INFO - delete md done!\n",
      "2024-01-19 11:40:06,387 - root - INFO - remove empty folders done!\n",
      "2024-01-19 11:40:06,387 - root - INFO - \n",
      "2024-01-19 11:40:06,387 - root - INFO - total 6 files in /Users/tannpopo/Projects/codeS/codes/validation/repos/pitch-visualizer, cleaning...\n",
      "2024-01-19 11:40:06,500 - root - INFO - finished cleaning /Users/tannpopo/Projects/codeS/codes/validation/repos/pitch-visualizer.\n",
      "2024-01-19 11:40:06,500 - root - INFO - clean done!\n",
      "2024-01-19 11:40:06,500 - root - INFO - delete md done!\n",
      "2024-01-19 11:40:06,500 - root - INFO - remove empty folders done!\n",
      "2024-01-19 11:40:06,500 - root - INFO - \n",
      "2024-01-19 11:40:06,501 - root - INFO - total 30 files in /Users/tannpopo/Projects/codeS/codes/validation/repos/django-tui, cleaning...\n",
      "2024-01-19 11:40:06,922 - root - INFO - finished cleaning /Users/tannpopo/Projects/codeS/codes/validation/repos/django-tui.\n",
      "2024-01-19 11:40:06,922 - root - INFO - clean done!\n",
      "2024-01-19 11:40:06,922 - root - INFO - delete md done!\n",
      "2024-01-19 11:40:06,923 - root - INFO - remove empty folders done!\n",
      "2024-01-19 11:40:06,923 - root - INFO - \n",
      "2024-01-19 11:40:06,923 - root - INFO - total 24 files in /Users/tannpopo/Projects/codeS/codes/validation/repos/easier-docker, cleaning...\n",
      "2024-01-19 11:40:07,011 - root - INFO - finished cleaning /Users/tannpopo/Projects/codeS/codes/validation/repos/easier-docker.\n",
      "2024-01-19 11:40:07,011 - root - INFO - clean done!\n",
      "2024-01-19 11:40:07,011 - root - INFO - delete md done!\n",
      "2024-01-19 11:40:07,011 - root - INFO - Removing empty folder: /Users/tannpopo/Projects/codeS/codes/validation/cleaned_repos/easier-docker/image\n",
      "2024-01-19 11:40:07,012 - root - INFO - remove empty folders done!\n",
      "2024-01-19 11:40:07,012 - root - INFO - \n",
      "2024-01-19 11:40:07,014 - root - INFO - total 233 files in /Users/tannpopo/Projects/codeS/codes/validation/repos/sim-web-visualizer, cleaning...\n",
      "2024-01-19 11:40:08,697 - root - INFO - finished cleaning /Users/tannpopo/Projects/codeS/codes/validation/repos/sim-web-visualizer.\n",
      "2024-01-19 11:40:08,698 - root - INFO - clean done!\n",
      "2024-01-19 11:40:08,745 - root - INFO - delete md done!\n",
      "2024-01-19 11:40:08,745 - root - INFO - Removing empty folder: /Users/tannpopo/Projects/codeS/codes/validation/cleaned_repos/sim-web-visualizer/example/visualize_urdf/piano/key\n",
      "2024-01-19 11:40:08,745 - root - INFO - Removing empty folder: /Users/tannpopo/Projects/codeS/codes/validation/cleaned_repos/sim-web-visualizer/example/visualize_urdf/piano\n",
      "2024-01-19 11:40:08,745 - root - INFO - Removing empty folder: /Users/tannpopo/Projects/codeS/codes/validation/cleaned_repos/sim-web-visualizer/example/visualize_urdf/kuka_allegro_description/meshes/mounts\n",
      "2024-01-19 11:40:08,746 - root - INFO - Removing empty folder: /Users/tannpopo/Projects/codeS/codes/validation/cleaned_repos/sim-web-visualizer/example/visualize_urdf/kuka_allegro_description/meshes/iiwa7/visual\n",
      "2024-01-19 11:40:08,746 - root - INFO - Removing empty folder: /Users/tannpopo/Projects/codeS/codes/validation/cleaned_repos/sim-web-visualizer/example/visualize_urdf/kuka_allegro_description/meshes/iiwa7/collision\n",
      "2024-01-19 11:40:08,746 - root - INFO - Removing empty folder: /Users/tannpopo/Projects/codeS/codes/validation/cleaned_repos/sim-web-visualizer/example/visualize_urdf/kuka_allegro_description/meshes/iiwa7\n",
      "2024-01-19 11:40:08,746 - root - INFO - Removing empty folder: /Users/tannpopo/Projects/codeS/codes/validation/cleaned_repos/sim-web-visualizer/example/visualize_urdf/kuka_allegro_description/meshes/biotac/visual\n",
      "2024-01-19 11:40:08,747 - root - INFO - Removing empty folder: /Users/tannpopo/Projects/codeS/codes/validation/cleaned_repos/sim-web-visualizer/example/visualize_urdf/kuka_allegro_description/meshes/biotac/collision\n",
      "2024-01-19 11:40:08,747 - root - INFO - Removing empty folder: /Users/tannpopo/Projects/codeS/codes/validation/cleaned_repos/sim-web-visualizer/example/visualize_urdf/kuka_allegro_description/meshes/biotac\n",
      "2024-01-19 11:40:08,748 - root - INFO - Removing empty folder: /Users/tannpopo/Projects/codeS/codes/validation/cleaned_repos/sim-web-visualizer/example/visualize_urdf/kuka_allegro_description/meshes/allegro\n",
      "2024-01-19 11:40:08,748 - root - INFO - Removing empty folder: /Users/tannpopo/Projects/codeS/codes/validation/cleaned_repos/sim-web-visualizer/example/visualize_urdf/kuka_allegro_description/meshes\n",
      "2024-01-19 11:40:08,749 - root - INFO - Removing empty folder: /Users/tannpopo/Projects/codeS/codes/validation/cleaned_repos/sim-web-visualizer/example/visualize_urdf/kuka_allegro_description\n",
      "2024-01-19 11:40:08,750 - root - INFO - Removing empty folder: /Users/tannpopo/Projects/codeS/codes/validation/cleaned_repos/sim-web-visualizer/example/isaacgym/docs\n",
      "2024-01-19 11:40:08,750 - root - INFO - Removing empty folder: /Users/tannpopo/Projects/codeS/codes/validation/cleaned_repos/sim-web-visualizer/doc/urdf\n",
      "2024-01-19 11:40:08,751 - root - INFO - Removing empty folder: /Users/tannpopo/Projects/codeS/codes/validation/cleaned_repos/sim-web-visualizer/doc/maniskill\n",
      "2024-01-19 11:40:08,751 - root - INFO - Removing empty folder: /Users/tannpopo/Projects/codeS/codes/validation/cleaned_repos/sim-web-visualizer/doc/isaacgymenv\n",
      "2024-01-19 11:40:08,751 - root - INFO - Removing empty folder: /Users/tannpopo/Projects/codeS/codes/validation/cleaned_repos/sim-web-visualizer/doc\n",
      "2024-01-19 11:40:08,752 - root - INFO - Removing empty folder: /Users/tannpopo/Projects/codeS/codes/validation/cleaned_repos/sim-web-visualizer/sim_web_visualizer/assets/axis_geom\n",
      "2024-01-19 11:40:08,752 - root - INFO - Removing empty folder: /Users/tannpopo/Projects/codeS/codes/validation/cleaned_repos/sim-web-visualizer/sim_web_visualizer/assets\n",
      "2024-01-19 11:40:08,752 - root - INFO - remove empty folders done!\n",
      "2024-01-19 11:40:08,752 - root - INFO - \n",
      "2024-01-19 11:40:08,753 - root - INFO - total 19 files in /Users/tannpopo/Projects/codeS/codes/validation/repos/EasyLiterature, cleaning...\n",
      "2024-01-19 11:40:09,323 - root - INFO - finished cleaning /Users/tannpopo/Projects/codeS/codes/validation/repos/EasyLiterature.\n",
      "2024-01-19 11:40:09,323 - root - INFO - clean done!\n",
      "2024-01-19 11:40:09,324 - root - INFO - delete md done!\n",
      "2024-01-19 11:40:09,324 - root - INFO - Removing empty folder: /Users/tannpopo/Projects/codeS/codes/validation/cleaned_repos/EasyLiterature/figures\n",
      "2024-01-19 11:40:09,324 - root - INFO - remove empty folders done!\n",
      "2024-01-19 11:40:09,324 - root - INFO - \n",
      "2024-01-19 11:40:09,325 - root - INFO - total 33 files in /Users/tannpopo/Projects/codeS/codes/validation/repos/pyobd, cleaning...\n",
      "2024-01-19 11:40:13,283 - root - INFO - finished cleaning /Users/tannpopo/Projects/codeS/codes/validation/repos/pyobd.\n",
      "2024-01-19 11:40:13,283 - root - INFO - clean done!\n",
      "2024-01-19 11:40:13,300 - root - INFO - delete md done!\n",
      "2024-01-19 11:40:13,301 - root - INFO - remove empty folders done!\n",
      "2024-01-19 11:40:13,301 - root - INFO - \n",
      "2024-01-19 11:40:13,302 - root - INFO - total 72 files in /Users/tannpopo/Projects/codeS/codes/validation/repos/flameshow, cleaning...\n",
      "2024-01-19 11:40:13,806 - root - INFO - finished cleaning /Users/tannpopo/Projects/codeS/codes/validation/repos/flameshow.\n",
      "2024-01-19 11:40:13,806 - root - INFO - clean done!\n",
      "2024-01-19 11:40:13,806 - root - INFO - delete md done!\n",
      "2024-01-19 11:40:13,806 - root - INFO - Removing empty folder: /Users/tannpopo/Projects/codeS/codes/validation/cleaned_repos/flameshow/proto\n",
      "2024-01-19 11:40:13,807 - root - INFO - Removing empty folder: /Users/tannpopo/Projects/codeS/codes/validation/cleaned_repos/flameshow/docs\n",
      "2024-01-19 11:40:13,807 - root - INFO - remove empty folders done!\n",
      "2024-01-19 11:40:13,807 - root - INFO - \n",
      "2024-01-19 11:40:13,808 - root - INFO - total 68 files in /Users/tannpopo/Projects/codeS/codes/validation/repos/mactop, cleaning...\n",
      "2024-01-19 11:40:15,080 - root - INFO - finished cleaning /Users/tannpopo/Projects/codeS/codes/validation/repos/mactop.\n",
      "2024-01-19 11:40:15,080 - root - INFO - clean done!\n",
      "2024-01-19 11:40:15,080 - root - INFO - delete md done!\n",
      "2024-01-19 11:40:15,081 - root - INFO - Removing empty folder: /Users/tannpopo/Projects/codeS/codes/validation/cleaned_repos/mactop/mactop/themes\n",
      "2024-01-19 11:40:15,081 - root - INFO - Removing empty folder: /Users/tannpopo/Projects/codeS/codes/validation/cleaned_repos/mactop/assets\n",
      "2024-01-19 11:40:15,081 - root - INFO - remove empty folders done!\n",
      "2024-01-19 11:40:15,082 - root - INFO - \n",
      "2024-01-19 11:40:15,082 - root - INFO - total 4 files in /Users/tannpopo/Projects/codeS/codes/validation/repos/CVE-2023-44487, cleaning...\n",
      "2024-01-19 11:40:15,144 - root - INFO - finished cleaning /Users/tannpopo/Projects/codeS/codes/validation/repos/CVE-2023-44487.\n",
      "2024-01-19 11:40:15,144 - root - INFO - clean done!\n",
      "2024-01-19 11:40:15,144 - root - INFO - delete md done!\n",
      "2024-01-19 11:40:15,144 - root - INFO - remove empty folders done!\n",
      "2024-01-19 11:40:15,145 - root - INFO - \n",
      "2024-01-19 11:40:15,145 - root - INFO - total 58 files in /Users/tannpopo/Projects/codeS/codes/validation/repos/pygraft, cleaning...\n",
      "2024-01-19 11:40:15,928 - root - INFO - finished cleaning /Users/tannpopo/Projects/codeS/codes/validation/repos/pygraft.\n",
      "2024-01-19 11:40:15,928 - root - INFO - clean done!\n",
      "2024-01-19 11:40:15,929 - root - INFO - delete md done!\n",
      "2024-01-19 11:40:15,929 - root - INFO - Removing empty folder: /Users/tannpopo/Projects/codeS/codes/validation/cleaned_repos/pygraft/docs/source/appendix\n",
      "2024-01-19 11:40:15,929 - root - INFO - Removing empty folder: /Users/tannpopo/Projects/codeS/codes/validation/cleaned_repos/pygraft/docs/source/tutorial\n",
      "2024-01-19 11:40:15,929 - root - INFO - Removing empty folder: /Users/tannpopo/Projects/codeS/codes/validation/cleaned_repos/pygraft/docs/source/references\n",
      "2024-01-19 11:40:15,929 - root - INFO - Removing empty folder: /Users/tannpopo/Projects/codeS/codes/validation/cleaned_repos/pygraft/docs/source/_static\n",
      "2024-01-19 11:40:15,930 - root - INFO - Removing empty folder: /Users/tannpopo/Projects/codeS/codes/validation/cleaned_repos/pygraft/docs/source/img\n",
      "2024-01-19 11:40:15,930 - root - INFO - Removing empty folder: /Users/tannpopo/Projects/codeS/codes/validation/cleaned_repos/pygraft/pygraft/property_checks\n",
      "2024-01-19 11:40:15,930 - root - INFO - Removing empty folder: /Users/tannpopo/Projects/codeS/codes/validation/cleaned_repos/pygraft/pygraft/examples\n",
      "2024-01-19 11:40:15,930 - root - INFO - remove empty folders done!\n",
      "2024-01-19 11:40:15,930 - root - INFO - \n",
      "2024-01-19 11:40:15,931 - root - INFO - total 16 files in /Users/tannpopo/Projects/codeS/codes/validation/repos/libgen_to_txt, cleaning...\n",
      "2024-01-19 11:40:16,084 - root - INFO - finished cleaning /Users/tannpopo/Projects/codeS/codes/validation/repos/libgen_to_txt.\n",
      "2024-01-19 11:40:16,084 - root - INFO - clean done!\n",
      "2024-01-19 11:40:16,084 - root - INFO - delete md done!\n",
      "2024-01-19 11:40:16,084 - root - INFO - remove empty folders done!\n",
      "2024-01-19 11:40:16,084 - root - INFO - \n",
      "2024-01-19 11:40:16,085 - root - INFO - total 4 files in /Users/tannpopo/Projects/codeS/codes/validation/repos/web.Monitor, cleaning...\n",
      "2024-01-19 11:40:16,136 - root - INFO - finished cleaning /Users/tannpopo/Projects/codeS/codes/validation/repos/web.Monitor.\n",
      "2024-01-19 11:40:16,136 - root - INFO - clean done!\n",
      "2024-01-19 11:40:16,136 - root - INFO - delete md done!\n",
      "2024-01-19 11:40:16,137 - root - INFO - remove empty folders done!\n",
      "2024-01-19 11:40:16,137 - root - INFO - \n",
      "2024-01-19 11:40:16,137 - root - INFO - total 49 files in /Users/tannpopo/Projects/codeS/codes/validation/repos/kanban-python, cleaning...\n",
      "2024-01-19 11:40:17,002 - root - INFO - finished cleaning /Users/tannpopo/Projects/codeS/codes/validation/repos/kanban-python.\n",
      "2024-01-19 11:40:17,002 - root - INFO - clean done!\n",
      "2024-01-19 11:40:17,003 - root - INFO - delete md done!\n",
      "2024-01-19 11:40:17,003 - root - INFO - Removing empty folder: /Users/tannpopo/Projects/codeS/codes/validation/cleaned_repos/kanban-python/images\n",
      "2024-01-19 11:40:17,003 - root - INFO - Removing empty folder: /Users/tannpopo/Projects/codeS/codes/validation/cleaned_repos/kanban-python/docs/_static\n",
      "2024-01-19 11:40:17,003 - root - INFO - remove empty folders done!\n",
      "2024-01-19 11:40:17,003 - root - INFO - \n",
      "2024-01-19 11:40:17,003 - root - INFO - total 4 files in /Users/tannpopo/Projects/codeS/codes/validation/repos/EVM_inscription, cleaning...\n",
      "2024-01-19 11:40:17,037 - root - INFO - finished cleaning /Users/tannpopo/Projects/codeS/codes/validation/repos/EVM_inscription.\n",
      "2024-01-19 11:40:17,037 - root - INFO - clean done!\n",
      "2024-01-19 11:40:17,037 - root - INFO - delete md done!\n",
      "2024-01-19 11:40:17,037 - root - INFO - remove empty folders done!\n",
      "2024-01-19 11:40:17,037 - root - INFO - \n",
      "2024-01-19 11:40:17,038 - root - INFO - total 41 files in /Users/tannpopo/Projects/codeS/codes/validation/repos/van-gonography, cleaning...\n",
      "2024-01-19 11:40:17,245 - root - INFO - finished cleaning /Users/tannpopo/Projects/codeS/codes/validation/repos/van-gonography.\n",
      "2024-01-19 11:40:17,245 - root - INFO - clean done!\n",
      "2024-01-19 11:40:17,245 - root - INFO - delete md done!\n",
      "2024-01-19 11:40:17,245 - root - INFO - Removing empty folder: /Users/tannpopo/Projects/codeS/codes/validation/cleaned_repos/van-gonography/img\n",
      "2024-01-19 11:40:17,245 - root - INFO - Removing empty folder: /Users/tannpopo/Projects/codeS/codes/validation/cleaned_repos/van-gonography/configs\n",
      "2024-01-19 11:40:17,245 - root - INFO - remove empty folders done!\n"
     ]
    }
   ],
   "source": [
    "! python $SCRIPTS_DIR/clean_repo.py --base_path $repo_dir --new_base_path $cleaned_repo_dir --repo_names $repo_names"
   ]
  },
  {
   "cell_type": "code",
   "execution_count": 15,
   "metadata": {},
   "outputs": [
    {
     "name": "stdout",
     "output_type": "stream",
     "text": [
      "python3: can't open file '/extract_sketch.py': [Errno 2] No such file or directory\n"
     ]
    }
   ],
   "source": [
    "! python3 $SCRIPTS_DIR/extract_sketch.py --base_path $cleaned_repo_dir --output_path $output_path --repo_names $repo_names --validation\n",
    "# ! python $WORK_DIR/scripts/extract_sketch.py --base_path $cleaned_repo_dir --output_path $output_path --repo_names libgen_to_txt --validation"
   ]
  }
 ],
 "metadata": {
  "kernelspec": {
   "display_name": "validation_dataset",
   "language": "python",
   "name": "python3"
  },
  "language_info": {
   "codemirror_mode": {
    "name": "ipython",
    "version": 3
   },
   "file_extension": ".py",
   "mimetype": "text/x-python",
   "name": "python",
   "nbconvert_exporter": "python",
   "pygments_lexer": "ipython3",
   "version": "3.11.5"
  }
 },
 "nbformat": 4,
 "nbformat_minor": 2
}
