{
 "cells": [
  {
   "cell_type": "code",
   "execution_count": 5,
   "metadata": {},
   "outputs": [],
   "source": [
    "# Load model directly\n",
    "from transformers import AutoTokenizer, AutoModelForCausalLM\n",
    "\n",
    "tokenizer = AutoTokenizer.from_pretrained(\"/Users/zandaoguang/Desktop/CodeLlama-7b-Instruct\")"
   ]
  },
  {
   "cell_type": "code",
   "execution_count": 5,
   "metadata": {},
   "outputs": [
    {
     "name": "stdout",
     "output_type": "stream",
     "text": [
      "2877\n"
     ]
    }
   ],
   "source": [
    "text = \"Below is a detailed README.md of repository, repository sketch, as well as some relevant file sketches. Please fill the function body for the given function header.\\n\\n---\\nREADME.md\\n---\\n# SnakeAI\\n\\nThis project contains the program scripts for the classic game \\\"Snake\\\" and an artificial intelligence agent that can play the game automatically. The intelligent agent is trained using deep reinforcement learning and includes two versions: an agent based on a Multi-Layer Perceptron (MLP) and an agent based on a Convolution Neural Network (CNN), with the latter having a higher average game score.\\n\\n### Environment Configuration\\n\\n```\\ngym==0.21.0\\nstable-baselines3==1.8.0\\nsb3-contrib==1.8.0\\npygame==2.3.0\\n```\\n\\n### Running Tests\\n\\nThe `main/` folder of the project contains the program scripts for the classic game \\\"Snake\\\", based on the [Pygame](https://www.pygame.org/news) code library. You can directly run the following command to play the game:\\n\\n```bash\\ncd [parent folder of the project]/snake-ai/main\\npython .\\\\snake_game.py\\n```\\n\\nAfter completing the environment configuration, you can run `test_cnn.py` or `test_mlp.py` in the `main/` folder to test and observe the actual performance of the two intelligent agents at different training stages.\\n\\n```bash\\ncd [parent folder of the project]/snake-ai/main\\npython test_cnn.py\\npython test_mlp.py\\n```\\n\\nModel weight files are stored in the `main/trained_models_cnn/` and `main/trained_models_mlp/` folders. Both test scripts call the trained models by default. If you want to observe the AI performance at different training stages, you can modify the `MODEL_PATH` variable in the test scripts to point to the file path of other models.\\n\\n### Training Models\\n\\nIf you need to retrain the models, you can run `train_cnn.py` or `train_mlp.py` in the `main/` folder.\\n\\n```bash\\ncd [parent folder of the project]/snake-ai/main\\npython train_cnn.py\\npython train_mlp.py\\n```\\n\\n### Viewing Curves\\n\\nThe project includes Tensorboard curve graphs of the training process. You can use Tensorboard to view detailed data. It is recommended to use the integrated Tensorboard plugin in VSCode for direct viewing, or you can use the traditional method:\\n\\n```bash\\ncd [parent folder of the project]/snake-ai/main\\ntensorboard --logdir=logs/\\n```\\n\\nOpen the default Tensorboard service address `http://localhost:6006/` in your browser to view the interactive curve graphs of the training process.\\n\\n---\\nRepository Sketch\\n---\\nHere is a practicable repository sketch.\\n\\n```\\nLICENSE\\nrequirements.txt\\nREADME.md\\nREADME_CN.md\\nREADME_JP.md\\n.gitignore\\n.gitattributes\\nutils\\n|  \\u2514\\u2500\\u2500 compress_code.py # import re; import sys; \\n|  \\u2514\\u2500\\u2500 check_gpu_status_mps.py # import torch; \\n|  \\u2514\\u2500\\u2500 path_counter.py # \\n|  \\u2514\\u2500\\u2500 check_gpu_status.py # import torch; \\nmain\\n   \\u2514\\u2500\\u2500 snake_game.py # import os; import random; import sys; import numpy as np; import pygame; from pygame import mixer; \\n   \\u2514\\u2500\\u2500 test_cnn.py # import random; import time; import torch; from sb3_contrib import MaskablePPO; from snake_game_custom_wrapper_cnn import SnakeEnv; \\n   \\u2514\\u2500\\u2500 test_mlp.py # import random; import time; from sb3_contrib import MaskablePPO; from snake_game_custom_wrapper_mlp import SnakeEnv; \\n   \\u2514\\u2500\\u2500 hamiltonian_agent.py # import random; import time; from snake_game_custom_wrapper_cnn import SnakeEnv; \\n   \\u2514\\u2500\\u2500 snake_game_custom_wrapper_mlp.py # import math; import time  # For debugging.; import gym; import numpy as np; from snake_game import SnakeGame; \\n   \\u2514\\u2500\\u2500 snake_game_custom_wrapper_cnn.py # import math; import gym; import numpy as np; from snake_game import SnakeGame; \\n   \\u2514\\u2500\\u2500 train_cnn.py # import os; import random; import sys; import torch; from sb3_contrib import MaskablePPO; from sb3_contrib.common.wrappers import ActionMasker; from snake_game_custom_wrapper_cnn import SnakeEnv; from stable_baselines3.common.callbacks import CheckpointCallback; from stable_baselines3.common.monitor import Monitor; from stable_baselines3.common.vec_env import SubprocVecEnv; \\n   \\u2514\\u2500\\u2500 train_mlp.py # import os; import random; import sys; from sb3_contrib import MaskablePPO; from sb3_contrib.common.wrappers import ActionMasker; from snake_game_custom_wrapper_mlp import SnakeEnv; from stable_baselines3.common.callbacks import CheckpointCallback; from stable_baselines3.common.monitor import Monitor; from stable_baselines3.common.vec_env import SubprocVecEnv; \\n   \\u2514\\u2500\\u2500 logs\\n   \\u2514\\u2500\\u2500 |  \\u2514\\u2500\\u2500 PPO_CNN\\n   \\u2514\\u2500\\u2500 |  \\u2514\\u2500\\u2500 |  \\u2514\\u2500\\u2500 events.out.tfevents\\n   \\u2514\\u2500\\u2500 |  \\u2514\\u2500\\u2500 PPO_MLP\\n   \\u2514\\u2500\\u2500 |  \\u2514\\u2500\\u2500 |  \\u2514\\u2500\\u2500 events.out.tfevents\\n   \\u2514\\u2500\\u2500 |  \\u2514\\u2500\\u2500 PPO_CNN_MPS_AUGMENT\\n   \\u2514\\u2500\\u2500 |  \\u2514\\u2500\\u2500    \\u2514\\u2500\\u2500 events.out.tfevents\\n   \\u2514\\u2500\\u2500 trained_models_mlp\\n   \\u2514\\u2500\\u2500 |  \\u2514\\u2500\\u2500 ppo_snake_final.zip\\n   \\u2514\\u2500\\u2500 trained_models_cnn_mps\\n   \\u2514\\u2500\\u2500 |  \\u2514\\u2500\\u2500 ppo_snake_final.zip\\n   \\u2514\\u2500\\u2500 sound\\n   \\u2514\\u2500\\u2500 |  \\u2514\\u2500\\u2500 victory.wav\\n   \\u2514\\u2500\\u2500 |  \\u2514\\u2500\\u2500 game_over.wav\\n   \\u2514\\u2500\\u2500 |  \\u2514\\u2500\\u2500 eat.wav\\n   \\u2514\\u2500\\u2500 trained_models_cnn\\n   \\u2514\\u2500\\u2500    \\u2514\\u2500\\u2500 ppo_snake_final.zip\\n```\\n\\n---\\nCurrent File Sketch/1\\n---\\nHere is the file sketch of `./cleaned_repos/snake-ai-master/main/snake_game.py`.\\n\\n```python\\nimport os\\nimport random\\nimport sys\\nimport numpy as np\\n\\nos.environ[\\\"PYGAME_HIDE_SUPPORT_PROMPT\\\"] = \\\"1\\\"\\nimport pygame\\nfrom pygame import mixer\\n\\n\\nclass SnakeGame:\\n    def __init__(self, seed=0, board_size=12, silent_mode=True):\\n        pass\\n\\n    def reset(self):\\n        pass\\n\\n    def step(self, action):\\n        pass\\n\\n    def _update_direction(self, action):\\n        pass\\n\\n    def _generate_food(self):\\n        pass\\n\\n    def draw_score(self):\\n        pass\\n\\n    def draw_welcome_screen(self):\\n        \\\"\\\"\\\"TODO\\\"\\\"\\\"\\n\\n    def draw_game_over_screen(self):\\n        pass\\n\\n    def draw_button_text(\\n        self,\\n        button_text_str,\\n        pos,\\n        hover_color=(255, 255, 255),\\n        normal_color=(100, 100, 100),\\n    ):\\n        pass\\n\\n    def draw_countdown(self, number):\\n        pass\\n\\n    def is_mouse_on_button(self, button_text):\\n        pass\\n\\n    def render(self):\\n        pass\\n\\n    def draw_snake(self):\\n        pass\\n\\n\\nif __name__ == \\\"__main__\\\":\\n    import time\\n\\n    seed = random.randint(0, 1000000000.0)\\n    game = SnakeGame(seed=seed, silent_mode=False)\\n    pygame.init()\\n    game.screen = pygame.display.set_mode((game.display_width, game.display_height))\\n    pygame.display.set_caption(\\\"Snake Game\\\")\\n    game.font = pygame.font.Font(None, 36)\\n    game_state = \\\"welcome\\\"\\n    start_button = game.font.render(\\\"START\\\", True, (0, 0, 0))\\n    retry_button = game.font.render(\\\"RETRY\\\", True, (0, 0, 0))\\n    update_interval = 0.15\\n    start_time = time.time()\\n    action = -1\\n    while True:\\n        for event in pygame.event.get():\\n            if game_state == \\\"running\\\":\\n                if event.type == pygame.KEYDOWN:\\n                    if event.key == pygame.K_UP:\\n                        action = 0\\n                    elif event.key == pygame.K_DOWN:\\n                        action = 3\\n                    elif event.key == pygame.K_LEFT:\\n                        action = 1\\n                    elif event.key == pygame.K_RIGHT:\\n                        action = 2\\n            if event.type == pygame.QUIT:\\n                pygame.quit()\\n                sys.exit()\\n            if game_state == \\\"welcome\\\" and event.type == pygame.MOUSEBUTTONDOWN:\\n                if game.is_mouse_on_button(start_button):\\n                    for i in range(3, 0, -1):\\n                        game.screen.fill((0, 0, 0))\\n                        game.draw_countdown(i)\\n                        game.sound_eat.play()\\n                        pygame.time.wait(1000)\\n                    action = -1\\n                    game_state = \\\"running\\\"\\n            if game_state == \\\"game_over\\\" and event.type == pygame.MOUSEBUTTONDOWN:\\n                if game.is_mouse_on_button(retry_button):\\n                    for i in range(3, 0, -1):\\n                        game.screen.fill((0, 0, 0))\\n                        game.draw_countdown(i)\\n                        game.sound_eat.play()\\n                        pygame.time.wait(1000)\\n                    game.reset()\\n                    action = -1\\n                    game_state = \\\"running\\\"\\n        if game_state == \\\"welcome\\\":\\n            game.draw_welcome_screen()\\n        if game_state == \\\"game_over\\\":\\n            game.draw_game_over_screen()\\n        if game_state == \\\"running\\\":\\n            if time.time() - start_time >= update_interval:\\n                done, _ = game.step(action)\\n                game.render()\\n                start_time = time.time()\\n                if done:\\n                    game_state = \\\"game_over\\\"\\n        pygame.time.wait(1)\\n```\\n\\n---\\nFunction Complement\\n---\\ndef draw_welcome_screen(self):\\n\" + \"Here is a complete function body.\\n\\n```python\\ndef draw_welcome_screen(self):\\n    title_text = self.font.render(\\\"SNAKE GAME\\\", True, (255, 255, 255))\\n    start_button_text = \\\"START\\\"\\n    self.screen.fill((0, 0, 0))\\n    self.screen.blit(\\n        title_text,\\n        (\\n            self.display_width // 2 - title_text.get_width() // 2,\\n            self.display_height // 4,\\n        ),\\n    )\\n    self.draw_button_text(\\n        start_button_text, (self.display_width // 2, self.display_height // 2)\\n    )\\n    pygame.display.flip()\\n```\"\n",
    "\n",
    "inputs = tokenizer(text)\n",
    "input_ids = inputs[\"input_ids\"]\n",
    "print(len(input_ids))"
   ]
  },
  {
   "cell_type": "code",
   "execution_count": 1,
   "metadata": {},
   "outputs": [
    {
     "name": "stdout",
     "output_type": "stream",
     "text": [
      "1024\n"
     ]
    }
   ],
   "source": [
    "a = [1, 518, 25580, 29962, 3532, 14816, 29903, 6778, 13, 3492, 526, 263, 8444, 29892, 3390, 1319, 322, 15993, 20255, 29889, 29849, 1234, 408, 1371, 3730, 408, 1950, 29892, 1550, 1641, 9109, 29889, 3575, 6089, 881, 451, 3160, 738, 10311, 1319, 29892, 443, 621, 936, 29892, 11021, 391, 29892, 7916, 391, 29892, 304, 27375, 29892, 18215, 29892, 470, 27302, 2793, 29889, 3529, 9801, 393, 596, 20890, 526, 5374, 635, 443, 5365, 1463, 322, 6374, 297, 5469, 29889, 13, 13, 3644, 263, 1139, 947, 451, 1207, 738, 4060, 29892, 470, 338, 451, 2114, 1474, 16165, 261, 296, 29892, 5649, 2020, 2012, 310, 22862, 1554, 451, 1959, 29889, 960, 366, 1016, 29915, 29873, 1073, 278, 1234, 304, 263, 1139, 29892, 3113, 1016, 29915, 29873, 6232, 2089, 2472, 29889, 13, 29966, 829, 14816, 29903, 6778, 13, 13, 29911, 1455, 363, 9128, 322, 19119, 1532, 29899, 915, 292, 29889, 739, 6911, 304, 1072, 5987, 286, 2092, 29892, 11157, 25323, 3321, 740, 29892, 322, 11286, 9045, 29891, 14321, 322, 5198, 1540, 740, 29889, 319, 326, 363, 29871, 29955, 29899, 29929, 6199, 310, 8709, 1269, 4646, 29889, 29896, 29889, 382, 271, 263, 6411, 8362, 322, 18254, 768, 2738, 652, 300, 29901, 8561, 1854, 596, 592, 1338, 526, 20978, 573, 310, 263, 12875, 310, 285, 21211, 322, 18655, 1849, 29892, 20793, 26823, 29892, 3353, 2646, 1144, 29892, 322, 9045, 29891, 285, 1446, 29889, 910, 6911, 304, 3867, 596, 3573, 411, 278, 18853, 18254, 374, 1237, 304, 740, 472, 967, 1900, 322, 508, 1371, 5557, 17168, 293, 10267, 2129, 29889, 13, 13, 29906, 29889, 2201, 482, 297, 4943, 9128, 6354, 29901, 1222, 6269, 895, 338, 7618, 1455, 363, 7344, 292, 4549, 289, 2873, 29892, 2301, 7799, 29892, 322, 5881, 29875, 586, 6151, 1070, 9045, 29889, 319, 326, 363, 472, 3203, 29871, 29896, 29945, 29900, 6233, 310, 17768, 403, 14911, 711, 293, 15058, 470, 29871, 29955, 29945, 6233, 310, 14877, 20657, 15058, 1269, 4723, 29889, 13, 13, 29941, 29889, 3617, 3307, 8709, 29901, 24162, 3307, 11029, 8709, 338, 7618, 1455, 363, 9128, 322, 19119, 1532, 29899, 915, 292, 29889, 739, 6911, 304, 1072, 5987, 286, 2092, 29892, 11157, 25323, 3321, 740, 29892, 322, 11286, 9045, 29891, 14321, 322, 5198, 1540, 740, 29889, 319, 326, 363, 29871, 29955, 29899, 29929, 6199, 310, 8709, 1269, 4646, 29889, 29896, 29889, 382, 271, 263, 6411, 8362, 322, 18254, 768, 2738, 652, 300, 29901, 8561, 1854, 596, 592, 1338, 526, 20978, 573, 310, 263, 12875, 310, 285, 21211, 322, 18655, 1849, 29892, 20793, 26823, 29892, 3353, 2646, 1144, 29892, 322, 9045, 29891, 285, 1446, 29889, 910, 6911, 304, 3867, 596, 3573, 411, 278, 18853, 18254, 374, 1237, 304, 740, 472, 967, 1900, 322, 508, 1371, 5557, 17168, 293, 10267, 2129, 29889, 13, 13, 29906, 29889, 2201, 482, 297, 4943, 9128, 6354, 29901, 1222, 6269, 895, 338, 7618, 1455, 363, 7344, 292, 4549, 289, 2873, 29892, 2301, 7799, 29892, 322, 5881, 29875, 586, 6151, 1070, 9045, 29889, 319, 326, 363, 472, 3203, 29871, 29896, 29945, 29900, 6233, 310, 17768, 403, 14911, 711, 293, 15058, 470, 29871, 29955, 29945, 6233, 310, 14877, 20657, 15058, 1269, 4723, 29889, 13, 13, 29941, 29889, 3617, 3307, 8709, 29901, 24162, 3307, 11029, 8709, 338, 7618, 1455, 363, 9128, 322, 19119, 1532, 29899, 915, 292, 29889, 739, 6911, 304, 1072, 5987, 286, 2092, 29892, 11157, 25323, 3321, 740, 29892, 322, 11286, 9045, 29891, 14321, 322, 5198, 1540, 740, 29889, 319, 326, 363, 29871, 29955, 29899, 29929, 6199, 310, 8709, 1269, 4646, 29889, 29896, 29889, 382, 271, 263, 6411, 8362, 322, 18254, 768, 2738, 652, 300, 29901, 8561, 1854, 596, 592, 1338, 526, 20978, 573, 310, 263, 12875, 310, 285, 21211, 322, 18655, 1849, 29892, 20793, 26823, 29892, 3353, 2646, 1144, 29892, 322, 9045, 29891, 285, 1446, 29889, 910, 6911, 304, 3867, 596, 3573, 411, 278, 18853, 18254, 374, 1237, 304, 740, 472, 967, 1900, 322, 508, 1371, 5557, 17168, 293, 10267, 2129, 29889, 13, 13, 29906, 29889, 2201, 482, 297, 4943, 9128, 6354, 29901, 1222, 6269, 895, 338, 7618, 1455, 363, 7344, 292, 4549, 289, 2873, 29892, 2301, 7799, 29892, 322, 5881, 29875, 586, 6151, 1070, 9045, 29889, 319, 326, 363, 472, 3203, 29871, 29896, 29945, 29900, 6233, 310, 17768, 403, 14911, 711, 293, 15058, 470, 29871, 29955, 29945, 6233, 310, 14877, 20657, 15058, 1269, 4723, 29889, 13, 13, 29941, 29889, 3617, 3307, 8709, 29901, 24162, 3307, 11029, 8709, 338, 7618, 1455, 363, 9128, 322, 19119, 1532, 29899, 915, 292, 29889, 739, 6911, 304, 1072, 5987, 286, 2092, 29892, 11157, 25323, 3321, 740, 29892, 322, 11286, 9045, 29891, 14321, 322, 5198, 1540, 740, 29889, 319, 326, 363, 29871, 29955, 29899, 29929, 6199, 310, 8709, 1269, 4646, 29889, 29896, 29889, 382, 271, 263, 6411, 8362, 322, 18254, 768, 2738, 652, 300, 29901, 8561, 1854, 596, 592, 1338, 526, 20978, 573, 310, 263, 12875, 310, 285, 21211, 322, 18655, 1849, 29892, 20793, 26823, 29892, 3353, 2646, 1144, 29892, 322, 9045, 29891, 285, 1446, 29889, 910, 6911, 304, 3867, 596, 3573, 411, 278, 18853, 18254, 374, 1237, 304, 740, 472, 967, 1900, 322, 508, 1371, 5557, 17168, 293, 10267, 2129, 29889, 13, 13, 29906, 29889, 2201, 482, 297, 4943, 9128, 6354, 29901, 1222, 6269, 895, 338, 7618, 1455, 363, 7344, 292, 4549, 289, 2873, 29892, 2301, 7799, 29892, 322, 5881, 29875, 586, 6151, 1070, 9045, 29889, 319, 326, 363, 472, 3203, 29871, 29896, 29945, 29900, 6233, 310, 17768, 403, 14911, 711, 293, 15058, 470, 29871, 29955, 29945, 6233, 310, 14877, 20657, 15058, 1269, 4723, 29889, 13, 13, 29941, 29889, 3617, 3307, 8709, 29901, 24162, 3307, 11029, 8709, 338, 7618, 1455, 363, 9128, 322, 19119, 1532, 29899, 915, 292, 29889, 739, 6911, 304, 1072, 5987, 286, 2092, 29892, 11157, 25323, 3321, 740, 29892, 322, 11286, 9045, 29891, 14321, 322, 5198, 1540, 740, 29889, 319, 326, 363, 29871, 29955, 29899, 29929, 6199, 310, 8709, 1269, 4646, 29889, 29896, 29889, 382, 271, 263, 6411, 8362, 322, 18254, 768, 2738, 652, 300, 29901, 8561, 1854, 596, 592, 1338, 526, 20978, 573, 310, 263, 12875, 310, 285, 21211, 322, 18655, 1849, 29892, 20793, 26823, 29892, 3353, 2646, 1144, 29892, 322, 9045, 29891, 285, 1446, 29889, 910, 6911, 304, 3867, 596, 3573, 411, 278, 18853, 18254, 374, 1237, 304, 740, 472, 967, 1900, 322, 508]\n",
    "print(len(a))"
   ]
  },
  {
   "cell_type": "code",
   "execution_count": 7,
   "metadata": {},
   "outputs": [
    {
     "name": "stdout",
     "output_type": "stream",
     "text": [
      "\n",
      "\n",
      "\n",
      "```\n",
      "tree\n",
      "├── convert_single.py\n",
      "├── convert.py\n",
      "├── convert.sh\n",
      "├── chunk_convert.sh\n",
      "├── local.env\n",
      "├── marker\n",
      "│   ├── __init__.py\n",
      "│   ├── __pycache__\n",
      "│   │   └── settings.cpython-38.pyc\n",
      "│   ├── settings.py\n",
      "│   └── utils.py\n",
      "├── nougat_20210515.pt\n",
      "├── nougat_20210717.pt\n",
      "├── nougat_202108117.pt\n",
      "├── nougat_20210906.pt\n",
      "├── nougat_20210913.pt\n",
      "├── nougat_202111017.pt\n",
      "└── nougat_20210921.pt\n",
      "└── settings.py\n",
      "```\n",
      "\n",
      "- `convert_single.py` is a script that converts a single PDF to markdown.\n",
      "- `convert.py` is a script that converts a list of PDFs from a directory to markdown.\n",
      "- `chunk_convert.sh` is a script that converts multiple PDFs in parallel using multiple GPUs.\n",
      "- `local.env` is a file with environment variables that are used by the other scripts.\n",
      "- `marker` is a folder containing the models and utilities.\n",
      "- `nougat_20210515.pt`, `nougat_20210717.pt`, `nougat_20210817.pt`, `nougat_20210906.pt`, `nougat_20210913.pt`, `nougat_20210921.pt` are the different versions of the nougat model used in the paper.\n",
      "- `settings.py` contains default settings.\n",
      "- `utils.py` contains utility functions.\n",
      "- `settings.py` is the file where you can override default settings with env variables or local.env.\n",
      "\n",
      "- `convert.sh` and `chunk_convert.sh` are scripts used for the main conversion process.\n",
      "- `nougat_20210515.pt`, `nougat_20210717.pt`, `nougat_20210817.pt`, `nougat_20210906.pt`, `nougat_20210913.pt`, `nougat_20210921.pt` are the different versions of the nougat model used in the paper.\n",
      "- `settings.py` contains default settings.\n",
      "\n",
      "- `utils.py` contains utility functions.\n",
      "- `settings.py` is the file where you can override default settings with env variables or local.env.\n",
      "- `convert.sh` and `chunk_convert.sh` are scripts used for the main conversion process.\n",
      "- `nougat_20210515.pt`, `nougat_20210717.pt`, `nougat_20210817.pt`, `nougat_20210906.pt`, `nougat_20210913.pt`, `nougat_20210921.pt` are the different versions of the nougat model used in the paper.\n",
      "- `settings.py` contains default settings.\n",
      "- `utils.py` contains utility functions.\n",
      "- `settings.py` is the file where you can override default settings with env variables or local.env.\n",
      "- `convert.sh` and `chunk_convert.sh` are scripts used for the main conversion process.\n",
      "\n",
      "- `nougat_20210515.pt`, `nougat_20210717.pt`, `nougat_20210817.pt`, `nougat_20210906.pt`, `nougat_20210913.pt`, `nougat_20210921.pt` are the different versions of the nougat model used in the paper.\n",
      "- `settings.py` contains default settings.\n",
      "- `utils.py` contains utility functions.\n",
      "- `settings.py` is the file where you can override default settings\n"
     ]
    }
   ],
   "source": [
    "a = \"\\n\\n\\n```\\ntree\\n├── convert_single.py\\n├── convert.py\\n├── convert.sh\\n├── chunk_convert.sh\\n├── local.env\\n├── marker\\n│\\xa0\\xa0 ├── __init__.py\\n│\\xa0\\xa0 ├── __pycache__\\n│\\xa0\\xa0 │\\xa0\\xa0 └── settings.cpython-38.pyc\\n│\\xa0\\xa0 ├── settings.py\\n│\\xa0\\xa0 └── utils.py\\n├── nougat_20210515.pt\\n├── nougat_20210717.pt\\n├── nougat_202108117.pt\\n├── nougat_20210906.pt\\n├── nougat_20210913.pt\\n├── nougat_202111017.pt\\n└── nougat_20210921.pt\\n└── settings.py\\n```\\n\\n- `convert_single.py` is a script that converts a single PDF to markdown.\\n- `convert.py` is a script that converts a list of PDFs from a directory to markdown.\\n- `chunk_convert.sh` is a script that converts multiple PDFs in parallel using multiple GPUs.\\n- `local.env` is a file with environment variables that are used by the other scripts.\\n- `marker` is a folder containing the models and utilities.\\n- `nougat_20210515.pt`, `nougat_20210717.pt`, `nougat_20210817.pt`, `nougat_20210906.pt`, `nougat_20210913.pt`, `nougat_20210921.pt` are the different versions of the nougat model used in the paper.\\n- `settings.py` contains default settings.\\n- `utils.py` contains utility functions.\\n- `settings.py` is the file where you can override default settings with env variables or local.env.\\n\\n- `convert.sh` and `chunk_convert.sh` are scripts used for the main conversion process.\\n- `nougat_20210515.pt`, `nougat_20210717.pt`, `nougat_20210817.pt`, `nougat_20210906.pt`, `nougat_20210913.pt`, `nougat_20210921.pt` are the different versions of the nougat model used in the paper.\\n- `settings.py` contains default settings.\\n\\n- `utils.py` contains utility functions.\\n- `settings.py` is the file where you can override default settings with env variables or local.env.\\n- `convert.sh` and `chunk_convert.sh` are scripts used for the main conversion process.\\n- `nougat_20210515.pt`, `nougat_20210717.pt`, `nougat_20210817.pt`, `nougat_20210906.pt`, `nougat_20210913.pt`, `nougat_20210921.pt` are the different versions of the nougat model used in the paper.\\n- `settings.py` contains default settings.\\n- `utils.py` contains utility functions.\\n- `settings.py` is the file where you can override default settings with env variables or local.env.\\n- `convert.sh` and `chunk_convert.sh` are scripts used for the main conversion process.\\n\\n- `nougat_20210515.pt`, `nougat_20210717.pt`, `nougat_20210817.pt`, `nougat_20210906.pt`, `nougat_20210913.pt`, `nougat_20210921.pt` are the different versions of the nougat model used in the paper.\\n- `settings.py` contains default settings.\\n- `utils.py` contains utility functions.\\n- `settings.py` is the file where you can override default settings\"\n",
    "print(a)"
   ]
  },
  {
   "cell_type": "code",
   "execution_count": 4,
   "metadata": {},
   "outputs": [
    {
     "name": "stdout",
     "output_type": "stream",
     "text": [
      "6515\n"
     ]
    }
   ],
   "source": [
    "path = \"/Users/zandaoguang/Desktop/Intern/huawei/codes/outputs\"\n",
    "\n",
    "# 获取这个path下所有叫做“file_sketch.json”的文件\n",
    "import os\n",
    "import json\n",
    "\n",
    "def get_file_sketch(path):\n",
    "    file_sketch = []\n",
    "    for root, dirs, files in os.walk(path):\n",
    "        for file in files:\n",
    "            if file == \"function_body.json\":\n",
    "                file_sketch.append(os.path.join(root, file))\n",
    "    return file_sketch\n",
    "\n",
    "count = 0\n",
    "all_file_sketch = get_file_sketch(path)\n",
    "for this_path in all_file_sketch:\n",
    "    with open(this_path, \"r\") as f:\n",
    "        data = json.load(f)\n",
    "        count += len(data)\n",
    "\n",
    "print(count)"
   ]
  },
  {
   "cell_type": "code",
   "execution_count": null,
   "metadata": {},
   "outputs": [],
   "source": []
  }
 ],
 "metadata": {
  "kernelspec": {
   "display_name": "codem",
   "language": "python",
   "name": "python3"
  },
  "language_info": {
   "codemirror_mode": {
    "name": "ipython",
    "version": 3
   },
   "file_extension": ".py",
   "mimetype": "text/x-python",
   "name": "python",
   "nbconvert_exporter": "python",
   "pygments_lexer": "ipython3",
   "version": "3.11.5"
  },
  "orig_nbformat": 4
 },
 "nbformat": 4,
 "nbformat_minor": 2
}
