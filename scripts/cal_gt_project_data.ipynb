{
 "cells": [
  {
   "cell_type": "code",
   "execution_count": 2,
   "metadata": {},
   "outputs": [
    {
     "name": "stdout",
     "output_type": "stream",
     "text": [
      "文件夹个数为：162\n",
      "python文件个数为：29\n",
      "python文件行数为：1859\n",
      "python类个数为：28\n",
      "python函数个数为：119\n"
     ]
    }
   ],
   "source": [
    "project_path = \"/Users/zandaoguang/Desktop/Intern/huawei/codes/projects/Blog\"\n",
    "\n",
    "\n",
    "import os\n",
    "\n",
    "def count_dirs(path):\n",
    "    dirs = -1\n",
    "    for root, _, files in os.walk(path):\n",
    "        # print(root)\n",
    "        dirs += 1\n",
    "    return dirs\n",
    "\n",
    "print(f\"文件夹个数为：{count_dirs(project_path)}\")\n",
    "\n",
    "python_file_num = 0\n",
    "python_file_lines = 0\n",
    "class_num, function_num = 0, 0\n",
    "for root, _, files in os.walk(project_path):\n",
    "    for file in files:\n",
    "        if file.endswith(\".py\"):\n",
    "            python_file_num += 1\n",
    "            with open(os.path.join(root, file), \"r\") as f:\n",
    "                all_lines = f.readlines()\n",
    "                python_file_lines += len(all_lines)\n",
    "                for line in all_lines:\n",
    "                    if \"class \" in line:\n",
    "                        class_num += 1\n",
    "                    if \"def \" in line:\n",
    "                        function_num += 1\n",
    "print(f\"python文件个数为：{python_file_num}\")\n",
    "print(f\"python文件行数为：{python_file_lines}\")\n",
    "print(f\"python类个数为：{class_num}\")\n",
    "print(f\"python函数个数为：{function_num}\")"
   ]
  },
  {
   "cell_type": "code",
   "execution_count": null,
   "metadata": {},
   "outputs": [],
   "source": []
  },
  {
   "cell_type": "code",
   "execution_count": null,
   "metadata": {},
   "outputs": [],
   "source": []
  }
 ],
 "metadata": {
  "kernelspec": {
   "display_name": "codem",
   "language": "python",
   "name": "python3"
  },
  "language_info": {
   "codemirror_mode": {
    "name": "ipython",
    "version": 3
   },
   "file_extension": ".py",
   "mimetype": "text/x-python",
   "name": "python",
   "nbconvert_exporter": "python",
   "pygments_lexer": "ipython3",
   "version": "3.11.5"
  },
  "orig_nbformat": 4
 },
 "nbformat": 4,
 "nbformat_minor": 2
}
