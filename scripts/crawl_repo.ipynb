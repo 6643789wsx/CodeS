{
 "cells": [
  {
   "cell_type": "code",
   "execution_count": 29,
   "metadata": {},
   "outputs": [
    {
     "name": "stdout",
     "output_type": "stream",
     "text": [
      "VikParuchuri/marker 14\n"
     ]
    }
   ],
   "source": [
    "import requests\n",
    "\n",
    "token = 'your/token/key'\n",
    "\n",
    "headers = {\n",
    "    'Authorization': f'token {token}',\n",
    "    'Accept': 'application/vnd.github.v3+json'\n",
    "}\n",
    "\n",
    "search_url = 'https://api.github.com/search/repositories'\n",
    "search_params = {\n",
    "    'q': 'language:Python stars:>50 created:>2023-08-24',\n",
    "    'sort': 'stars',\n",
    "    'order': 'desc',\n",
    "    'per_page': 10,\n",
    "    'page': 2\n",
    "}\n",
    "\n",
    "search_response = requests.get(search_url, headers=headers, params=search_params)\n",
    "search_results = search_response.json()['items']\n",
    "\n",
    "selected_repos = []\n",
    "for repo in search_results:\n",
    "    contents_url = repo['contents_url'].replace('{+path}', '')\n",
    "    contents_response = requests.get(contents_url, headers=headers)\n",
    "    contents = contents_response.json()\n",
    "\n",
    "    print(repo['full_name'], len(contents))\n",
    "    break"
   ]
  },
  {
   "cell_type": "code",
   "execution_count": 27,
   "metadata": {},
   "outputs": [
    {
     "name": "stdout",
     "output_type": "stream",
     "text": [
      "14\n",
      "dict_keys(['name', 'path', 'sha', 'size', 'url', 'html_url', 'git_url', 'download_url', 'type', '_links'])\n",
      "{'name': 'convert_single.py', 'path': 'convert_single.py', 'sha': 'dabfd933451029dd8f8c71099c58f65703d9616d', 'size': 1117, 'url': 'https://api.github.com/repos/VikParuchuri/marker/contents/convert_single.py?ref=master', 'html_url': 'https://github.com/VikParuchuri/marker/blob/master/convert_single.py', 'git_url': 'https://api.github.com/repos/VikParuchuri/marker/git/blobs/dabfd933451029dd8f8c71099c58f65703d9616d', 'download_url': 'https://raw.githubusercontent.com/VikParuchuri/marker/master/convert_single.py', 'type': 'file', '_links': {'self': 'https://api.github.com/repos/VikParuchuri/marker/contents/convert_single.py?ref=master', 'git': 'https://api.github.com/repos/VikParuchuri/marker/git/blobs/dabfd933451029dd8f8c71099c58f65703d9616d', 'html': 'https://github.com/VikParuchuri/marker/blob/master/convert_single.py'}}\n",
      "VikParuchuri/marker\n",
      "============================================================\n",
      ".github\n",
      ".gitignore\n",
      "LICENSE\n",
      "README.md\n",
      "benchmark.py\n",
      "chunk_convert.py\n",
      "chunk_convert.sh\n",
      "convert.py\n",
      "convert_single.py\n",
      "data\n",
      "marker\n",
      "poetry.lock\n",
      "pyproject.toml\n",
      "scripts\n"
     ]
    }
   ],
   "source": [
    "print(len(contents))\n",
    "print(contents[0].keys())\n",
    "print(contents[8])\n",
    "print(repo[\"full_name\"])\n",
    "print(\"===\"*20)\n",
    "for content in contents:\n",
    "    print(content[\"name\"])"
   ]
  },
  {
   "cell_type": "code",
   "execution_count": 30,
   "metadata": {},
   "outputs": [
    {
     "name": "stdout",
     "output_type": "stream",
     "text": [
      "{'resources': {'core': {'limit': 60, 'remaining': 46, 'reset': 1704514585, 'used': 14, 'resource': 'core'}, 'graphql': {'limit': 0, 'remaining': 0, 'reset': 1704515685, 'used': 0, 'resource': 'graphql'}, 'integration_manifest': {'limit': 5000, 'remaining': 5000, 'reset': 1704515685, 'used': 0, 'resource': 'integration_manifest'}, 'search': {'limit': 10, 'remaining': 10, 'reset': 1704512145, 'used': 0, 'resource': 'search'}}, 'rate': {'limit': 60, 'remaining': 46, 'reset': 1704514585, 'used': 14, 'resource': 'core'}}\n"
     ]
    }
   ],
   "source": [
    "import requests\n",
    "\n",
    "response = requests.get('https://api.github.com/rate_limit')\n",
    "data = response.json()\n",
    "\n",
    "print(data)"
   ]
  },
  {
   "cell_type": "code",
   "execution_count": 1,
   "metadata": {},
   "outputs": [
    {
     "name": "stdout",
     "output_type": "stream",
     "text": [
      "Below is a detailed README.md of repository, repository sketch, as well as a file path. Please write a corresponding file sketch.\n",
      "\n",
      "---\n",
      "README.md\n",
      "---\n",
      "# epubhv\n",
      "\n",
      "epubhv is a tool to make your epub books vertical or horizontal or make them readable for language learners.\n",
      "\n",
      "## Features\n",
      "\n",
      "- Make your epub books vertical or horizontal\n",
      "- Translate your epub books between `简体` and `繁体`\n",
      "- Add `ruby` for Japanese(furigana) and Chinese(pinyin)\n",
      "- Add `ruby` for `cantonese`\n",
      "\n",
      "## Using pipx\n",
      "\n",
      "If you are using [pipx](https://pypi.org/project/pipx/), you can directly run `epubhv` with:\n",
      "\n",
      "```console\n",
      "pipx run epubhv a.epub\n",
      "```\n",
      "\n",
      "## Use the web\n",
      "\n",
      "```console\n",
      "pip install epubhv[web]\n",
      "streamlit run web.py\n",
      "```\n",
      "\n",
      "## Use CLI\n",
      "\n",
      "```console\n",
      "epubhv a.epub # will generate a file a-v.epub that is vertical\n",
      "# or\n",
      "epubhv b.epub --h # will generate a file b-h.epub that is horizontal\n",
      "\n",
      "# if you also want to translate from `简体 -> 繁体`\n",
      "epubhv c.epub --convert s2t\n",
      "\n",
      "# if you also want to translate from `繁体 -> 简体`\n",
      "epubhv d.epub --h --convert t2s\n",
      "\n",
      "# or a folder contains butch of epubs\n",
      "epubhv tests/test_epub # will generate all epub files to epub-v\n",
      "\n",
      "# you can specify the punctuation style\n",
      "epubhv e.epub --convert s2t --punctuation auto\n",
      "# you can add `ruby` for Japanese(furigana) and Chinese(pinyin)\n",
      "epubhv e.epub --h --ruby\n",
      "# if you want to learn `cantonese` 粤语\n",
      "epubhv f.epub --h --ruby --cantonese\n",
      "```\n",
      "\n",
      "---\n",
      "Repository Sketch\n",
      "---\n",
      "Here is a practicable repository sketch.\n",
      "\n",
      "```\n",
      ".\n",
      "├── README.md\n",
      "├── setup.sh\n",
      "├── web.py # from epubhv import EPUBHV;\n",
      "└── epubhv\n",
      "    ├── __init__.py\n",
      "    ├── __main__.py\n",
      "    ├── cli.py\n",
      "    ├── epubhv.py\n",
      "    ├── punctuation.py\n",
      "    └── yomituki.py\n",
      "```\n",
      "\n",
      "---\n",
      "File Path\n",
      "---\n",
      "epubhv/punctuation.py\n",
      "\n",
      "---\n",
      "File Sketch\n",
      "---\n",
      "请你生成的长一些。\n",
      "\n"
     ]
    }
   ],
   "source": [
    "a = \"Below is a detailed README.md of repository, repository sketch, as well as a file path. Please write a corresponding file sketch.\\n\\n---\\nREADME.md\\n---\\n# epubhv\\n\\nepubhv is a tool to make your epub books vertical or horizontal or make them readable for language learners.\\n\\n## Features\\n\\n- Make your epub books vertical or horizontal\\n- Translate your epub books between `\\u7b80\\u4f53` and `\\u7e41\\u4f53`\\n- Add `ruby` for Japanese(furigana) and Chinese(pinyin)\\n- Add `ruby` for `cantonese`\\n\\n## Using pipx\\n\\nIf you are using [pipx](https://pypi.org/project/pipx/), you can directly run `epubhv` with:\\n\\n```console\\npipx run epubhv a.epub\\n```\\n\\n## Use the web\\n\\n```console\\npip install epubhv[web]\\nstreamlit run web.py\\n```\\n\\n## Use CLI\\n\\n```console\\nepubhv a.epub # will generate a file a-v.epub that is vertical\\n# or\\nepubhv b.epub --h # will generate a file b-h.epub that is horizontal\\n\\n# if you also want to translate from `\\u7b80\\u4f53 -> \\u7e41\\u4f53`\\nepubhv c.epub --convert s2t\\n\\n# if you also want to translate from `\\u7e41\\u4f53 -> \\u7b80\\u4f53`\\nepubhv d.epub --h --convert t2s\\n\\n# or a folder contains butch of epubs\\nepubhv tests/test_epub # will generate all epub files to epub-v\\n\\n# you can specify the punctuation style\\nepubhv e.epub --convert s2t --punctuation auto\\n# you can add `ruby` for Japanese(furigana) and Chinese(pinyin)\\nepubhv e.epub --h --ruby\\n# if you want to learn `cantonese` \\u7ca4\\u8bed\\nepubhv f.epub --h --ruby --cantonese\\n```\\n\\n---\\nRepository Sketch\\n---\\nHere is a practicable repository sketch.\\n\\n```\\n.\\n\\u251c\\u2500\\u2500 README.md\\n\\u251c\\u2500\\u2500 setup.sh\\n\\u251c\\u2500\\u2500 web.py # from epubhv import EPUBHV;\\n\\u2514\\u2500\\u2500 epubhv\\n    \\u251c\\u2500\\u2500 __init__.py\\n    \\u251c\\u2500\\u2500 __main__.py\\n    \\u251c\\u2500\\u2500 cli.py\\n    \\u251c\\u2500\\u2500 epubhv.py\\n    \\u251c\\u2500\\u2500 punctuation.py\\n    \\u2514\\u2500\\u2500 yomituki.py\\n```\\n\\n---\\nFile Path\\n---\\nepubhv/punctuation.py\\n\\n---\\nFile Sketch\\n---\\n请你生成的长一些。\\n\"\n",
    "print(a)"
   ]
  },
  {
   "cell_type": "code",
   "execution_count": null,
   "metadata": {},
   "outputs": [],
   "source": []
  }
 ],
 "metadata": {
  "kernelspec": {
   "display_name": "codem",
   "language": "python",
   "name": "python3"
  },
  "language_info": {
   "codemirror_mode": {
    "name": "ipython",
    "version": 3
   },
   "file_extension": ".py",
   "mimetype": "text/x-python",
   "name": "python",
   "nbconvert_exporter": "python",
   "pygments_lexer": "ipython3",
   "version": "3.11.5"
  },
  "orig_nbformat": 4
 },
 "nbformat": 4,
 "nbformat_minor": 2
}
