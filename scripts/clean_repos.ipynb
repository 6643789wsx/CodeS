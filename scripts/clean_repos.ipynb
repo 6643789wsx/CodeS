{
 "cells": [
  {
   "cell_type": "code",
   "execution_count": 1,
   "metadata": {},
   "outputs": [
    {
     "name": "stdout",
     "output_type": "stream",
     "text": [
      "32\n",
      "done /Users/zandaoguang/Desktop/Intern/huawei/codes/cleaned_repos/latexify_py-main\n",
      "done /Users/zandaoguang/Desktop/Intern/huawei/codes/cleaned_repos/cachebrowser-master\n",
      "done /Users/zandaoguang/Desktop/Intern/huawei/codes/cleaned_repos/maybe-master\n",
      "done /Users/zandaoguang/Desktop/Intern/huawei/codes/cleaned_repos/arxiv-latex-cleaner-main\n",
      "done /Users/zandaoguang/Desktop/Intern/huawei/codes/cleaned_repos/Instabruteforce-master\n",
      "done /Users/zandaoguang/Desktop/Intern/huawei/codes/cleaned_repos/whereami-master\n",
      "done /Users/zandaoguang/Desktop/Intern/huawei/codes/cleaned_repos/Photon-master\n",
      "done /Users/zandaoguang/Desktop/Intern/huawei/codes/cleaned_repos/TrumpScript-master\n",
      "done /Users/zandaoguang/Desktop/Intern/huawei/codes/cleaned_repos/peda-master\n",
      "done /Users/zandaoguang/Desktop/Intern/huawei/codes/cleaned_repos/snake-ai-master\n",
      "done /Users/zandaoguang/Desktop/Intern/huawei/codes/cleaned_repos/PySnooper-master\n",
      "done /Users/zandaoguang/Desktop/Intern/huawei/codes/cleaned_repos/autoscraper-master\n",
      "done /Users/zandaoguang/Desktop/Intern/huawei/codes/cleaned_repos/pytorch-captcha-recognition-master\n",
      "done /Users/zandaoguang/Desktop/Intern/huawei/codes/cleaned_repos/Depix-main\n",
      "done /Users/zandaoguang/Desktop/Intern/huawei/codes/cleaned_repos/better-exceptions-master\n",
      "done /Users/zandaoguang/Desktop/Intern/huawei/codes/cleaned_repos/icecream-master\n",
      "done /Users/zandaoguang/Desktop/Intern/huawei/codes/cleaned_repos/Arjun-master\n",
      "done /Users/zandaoguang/Desktop/Intern/huawei/codes/cleaned_repos/ddt4all-master\n",
      "done /Users/zandaoguang/Desktop/Intern/huawei/codes/cleaned_repos/open-interpreter-main\n",
      "done /Users/zandaoguang/Desktop/Intern/huawei/codes/cleaned_repos/CTags-development\n",
      "done /Users/zandaoguang/Desktop/Intern/huawei/codes/cleaned_repos/FlapPyBird-master\n",
      "done /Users/zandaoguang/Desktop/Intern/huawei/codes/cleaned_repos/AutoSploit-master\n",
      "done /Users/zandaoguang/Desktop/Intern/huawei/codes/cleaned_repos/waf-bypass-master\n",
      "done /Users/zandaoguang/Desktop/Intern/huawei/codes/cleaned_repos/RSS-to-Telegram-Bot-dev\n",
      "done /Users/zandaoguang/Desktop/Intern/huawei/codes/cleaned_repos/Silver-master\n",
      "done /Users/zandaoguang/Desktop/Intern/huawei/codes/cleaned_repos/vibora-master\n",
      "done /Users/zandaoguang/Desktop/Intern/huawei/codes/cleaned_repos/httpstat-master\n",
      "done /Users/zandaoguang/Desktop/Intern/huawei/codes/cleaned_repos/acme-tiny-master\n",
      "done /Users/zandaoguang/Desktop/Intern/huawei/codes/cleaned_repos/simple-neural-network-master\n",
      "done /Users/zandaoguang/Desktop/Intern/huawei/codes/cleaned_repos/big-list-of-naughty-strings-master\n",
      "done /Users/zandaoguang/Desktop/Intern/huawei/codes/cleaned_repos/gorilla-cli-main\n",
      "done /Users/zandaoguang/Desktop/Intern/huawei/codes/cleaned_repos/ANGRYsearch-master\n"
     ]
    }
   ],
   "source": [
    "path = \"/Users/zandaoguang/Desktop/Intern/huawei/codes/cleaned_repos\"\n",
    "\n",
    "import os\n",
    "import json\n",
    "\n",
    "def get_all_dir(path):\n",
    "    dir_list = []\n",
    "    for root, dirs, files in os.walk(path):\n",
    "        for dir in dirs:\n",
    "            dir_list.append(os.path.join(root, dir))\n",
    "        break\n",
    "    return dir_list\n",
    "\n",
    "print(len(get_all_dir(path)))\n",
    "for this_path in get_all_dir(path):\n",
    "    for root, dirs, files in os.walk(this_path):\n",
    "        for file in files:\n",
    "            if file != \"README.md\":\n",
    "                # os.remove(os.path.join(root, file))\n",
    "                os.system(f\"rm -rf {os.path.join(root, file)}\")\n",
    "        for dir in dirs:\n",
    "            # os.removedirs(os.path.join(root, dir))\n",
    "            os.system(f\"rm -rf {os.path.join(root, dir)}\")\n",
    "        # break\n",
    "    print(f\"done {this_path}\")"
   ]
  },
  {
   "cell_type": "code",
   "execution_count": null,
   "metadata": {},
   "outputs": [],
   "source": []
  }
 ],
 "metadata": {
  "kernelspec": {
   "display_name": "codem",
   "language": "python",
   "name": "python3"
  },
  "language_info": {
   "codemirror_mode": {
    "name": "ipython",
    "version": 3
   },
   "file_extension": ".py",
   "mimetype": "text/x-python",
   "name": "python",
   "nbconvert_exporter": "python",
   "pygments_lexer": "ipython3",
   "version": "3.11.5"
  },
  "orig_nbformat": 4
 },
 "nbformat": 4,
 "nbformat_minor": 2
}
